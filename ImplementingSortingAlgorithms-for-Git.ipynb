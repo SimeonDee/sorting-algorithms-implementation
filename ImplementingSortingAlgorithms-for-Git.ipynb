{
 "cells": [
  {
   "cell_type": "markdown",
   "metadata": {},
   "source": [
    "# Implementing Sorting Algorithms in Python"
   ]
  },
  {
   "cell_type": "markdown",
   "metadata": {},
   "source": [
    "    *************************************************************\n",
    "    Name:    Adeyemi Adedoyin Simeon\n",
    "    Program: MSc, Computer Science, University of Ibadan\n",
    "    Course:  Design and Analysis of Algorithms\n",
    "    Date:    5th May, 2019\n",
    "    Version: 1.2\n",
    "    E-mail:  adeyemi.sa1@gmail.com\n",
    "    *************************************************************\n",
    "    \n",
    "    *Note: Please reference the author whenever and wherever you use all/portion of this code*"
   ]
  },
  {
   "cell_type": "markdown",
   "metadata": {},
   "source": [
    "## Selection Sort"
   ]
  },
  {
   "cell_type": "code",
   "execution_count": 55,
   "metadata": {},
   "outputs": [],
   "source": [
    "def selection_sort_recursive(arr,s,l):\n",
    "    \"\"\"\n",
    "    Sorts arr array starting from element position s to element position n (size of arr)\n",
    "    using Selection Sort Recursive Algorithm\n",
    "    \"\"\"\n",
    "        \n",
    "    if s >= (l-1):\n",
    "        return\n",
    "    \n",
    "    minIndex = s\n",
    "    for i in range(s+1,l):\n",
    "        if arr[i] < arr[minIndex]:\n",
    "            minIndex = i\n",
    "    \n",
    "    #Swap the min-val with the value at position s\n",
    "    arr[s], arr[minIndex] = arr[minIndex],arr[s]\n",
    "    selection_sort_recursive(arr,s+1,l)"
   ]
  },
  {
   "cell_type": "code",
   "execution_count": 56,
   "metadata": {},
   "outputs": [],
   "source": [
    "def selection_sort_iterative(arr,s,n):\n",
    "    \"\"\"\n",
    "    Sorts arr array starting from element position s to element position n (size of arr)\n",
    "    using Selection Sort Iterative Algorithm\n",
    "    \"\"\"\n",
    "    \n",
    "    if s >= n:\n",
    "        return\n",
    "    \n",
    "    \n",
    "    while s < n-1:\n",
    "        minIndex = s\n",
    "        for i in range(s+1,n):\n",
    "            if arr[i] < arr[minIndex]:\n",
    "                minIndex = i\n",
    "            \n",
    "        #Swap arr[minIndex] with arr[s]\n",
    "        arr[s],arr[minIndex] = arr[minIndex],arr[s]\n",
    "            \n",
    "        # Increment the starting point\n",
    "        s = s + 1\n",
    "        \n",
    "        "
   ]
  },
  {
   "cell_type": "markdown",
   "metadata": {},
   "source": [
    "## Bubble Sort"
   ]
  },
  {
   "cell_type": "code",
   "execution_count": 156,
   "metadata": {},
   "outputs": [],
   "source": [
    "def bubble_sort_recursive(arr,s,n):\n",
    "    if s >= n-1:\n",
    "        return\n",
    "    \n",
    "    sorted_flag = True\n",
    "    for i in range(s,n-1):\n",
    "        if arr[i] > arr[i+1]:\n",
    "            #Swap the values\n",
    "            arr[i],arr[i+1] = arr[i+1],arr[i]\n",
    "            sorted_flag = False\n",
    "        \n",
    "    # Added to avoid working on already sorted array\n",
    "    if sorted_flag == True:\n",
    "        return\n",
    "    \n",
    "    # Recursive call\n",
    "    bubble_sort_recursive(arr,s,n-1)"
   ]
  },
  {
   "cell_type": "code",
   "execution_count": 157,
   "metadata": {},
   "outputs": [],
   "source": [
    "def bubble_sort_iterative(arr,s,n):\n",
    "    \n",
    "    last = n\n",
    "    \n",
    "    for j in range(s,last):\n",
    "        \"\"\"\n",
    "        The flag variable below is introduced to avoid \n",
    "        repeating the passes if the array is already sorted\n",
    "        half-way through the passes\n",
    "        \"\"\" \n",
    "        is_sorted_flag = True\n",
    "        for i in range(s, (last - j - 1)):\n",
    "            if arr[i+1] < arr[i]:\n",
    "                #Swap the values\n",
    "                arr[i],arr[i+1] = arr[i+1],arr[i]\n",
    "                is_sorted_flag = False\n",
    "            \n",
    "        # Break if array is already sorted i.e. no swap occured in last pass\n",
    "        # else continue sorting\n",
    "        if is_sorted_flag == True:\n",
    "            break\n",
    "                "
   ]
  },
  {
   "cell_type": "markdown",
   "metadata": {},
   "source": [
    "## Insertion Sort"
   ]
  },
  {
   "cell_type": "code",
   "execution_count": 159,
   "metadata": {},
   "outputs": [],
   "source": [
    "def insertion_sort_recursive(arr,s,n):\n",
    "    if s+1 >= n:\n",
    "        return\n",
    "    \n",
    "    value = arr[s + 1]\n",
    "    hole = s + 1\n",
    "    while (hole > 0 and arr[hole - 1] > arr[hole]):\n",
    "        arr[hole] = arr[hole - 1]\n",
    "        hole = hole - 1\n",
    "    arr[hole] = value\n",
    "    insertion_sort_recursive(arr,s+1,n)\n",
    "    "
   ]
  },
  {
   "cell_type": "code",
   "execution_count": 160,
   "metadata": {},
   "outputs": [],
   "source": [
    "def insertion_sort_iterative(arr,s,n):\n",
    "    i = s + 1\n",
    "    while i < n:  #loop 1\n",
    "        value = arr[i]\n",
    "        hole = i\n",
    "        while (hole > 0 and arr[hole - 1] > value): #loop 2\n",
    "            arr[hole] = arr[hole - 1]\n",
    "            hole = hole - 1\n",
    "        \n",
    "        arr[hole] = value\n",
    "        i = i + 1"
   ]
  },
  {
   "cell_type": "markdown",
   "metadata": {},
   "source": [
    "## Merge Sort"
   ]
  },
  {
   "cell_type": "code",
   "execution_count": 183,
   "metadata": {},
   "outputs": [],
   "source": [
    "def merge(L,R,A):\n",
    "    nl = len(L)\n",
    "    nr = len(R)\n",
    "    # nA = len(A)\n",
    "    i = j = k = 0\n",
    "    while(i < nl and j < nr):\n",
    "        if(L[i] < R[j]):\n",
    "            A[k] = L[i]\n",
    "            i = i + 1\n",
    "        else:\n",
    "            A[k] = R[j]\n",
    "            j = j + 1\n",
    "        \n",
    "        k = k + 1\n",
    "    \n",
    "    if(i == nl and j != nr):\n",
    "        A[k:] = R[j:]\n",
    "    if(j == nr and i != nl):\n",
    "        A[k:] = L[i:]"
   ]
  },
  {
   "cell_type": "code",
   "execution_count": 184,
   "metadata": {},
   "outputs": [],
   "source": [
    "def mergeSort(A):\n",
    "    n = len(A)\n",
    "    left = []\n",
    "    right = []\n",
    "    if n < 2:\n",
    "        return\n",
    "    \n",
    "    mid = int(n / 2)\n",
    "    for i in range(0,mid):\n",
    "        left.append(A[i])\n",
    "    \n",
    "    for j in range(mid,n):\n",
    "        right.append(A[j])\n",
    "        \n",
    "    mergeSort(left)    \n",
    "    mergeSort(right)\n",
    "    merge(left,right,A)\n",
    "    "
   ]
  },
  {
   "cell_type": "markdown",
   "metadata": {},
   "source": [
    "## Quick Sort"
   ]
  },
  {
   "cell_type": "code",
   "execution_count": 179,
   "metadata": {},
   "outputs": [],
   "source": [
    "def partition(A,start,end):\n",
    "    pivot = A[end]\n",
    "    PIndex = start\n",
    "    \n",
    "    #loop from start to (end - 1) i.e. minus the pivot,last\n",
    "    for i in range(start,end): \n",
    "        if A[i] <= pivot:\n",
    "            A[i], A[PIndex] = A[PIndex], A[i]    #Swap\n",
    "            PIndex = PIndex + 1\n",
    "    \n",
    "    #swap current Index value with the pivot element\n",
    "    A[PIndex], A[end] = A[end], A[PIndex]\n",
    "    \n",
    "    return PIndex \n",
    "    "
   ]
  },
  {
   "cell_type": "code",
   "execution_count": 180,
   "metadata": {},
   "outputs": [],
   "source": [
    "def quicksort(A, start, end):\n",
    "    if start >= end:\n",
    "        return\n",
    "    \n",
    "    PIndex = partition(A, start, end)\n",
    "    quicksort(A, start, PIndex - 1)\n",
    "    quicksort(A, PIndex + 1, end)"
   ]
  },
  {
   "cell_type": "markdown",
   "metadata": {},
   "source": [
    "### Randomized Quicksort\n",
    "    To reduce the O(n^2) worst case in Ordinary quicksort algorithm (.i.e. a situation where the array is already sorted)"
   ]
  },
  {
   "cell_type": "code",
   "execution_count": 214,
   "metadata": {},
   "outputs": [],
   "source": [
    "import random as rdm"
   ]
  },
  {
   "cell_type": "code",
   "execution_count": 215,
   "metadata": {},
   "outputs": [],
   "source": [
    "def randomized_partition(A, start, end):\n",
    "    pivot_index = rdm.randint(start,end)\n",
    "    #swap the value at location randomIndex with the last value\n",
    "    A[pivot_index], A[end] = A[end], A[pivot_index]\n",
    "    return partition(A,start,end)"
   ]
  },
  {
   "cell_type": "code",
   "execution_count": 216,
   "metadata": {},
   "outputs": [],
   "source": [
    "def randomized_quicksort(A, start, end):\n",
    "    if (start >= end):\n",
    "        return\n",
    "    \n",
    "    PIndex = randomized_partition(A, start, end)\n",
    "    randomized_quicksort(A, start, PIndex - 1)\n",
    "    randomized_quicksort(A, PIndex + 1, end)"
   ]
  },
  {
   "cell_type": "code",
   "execution_count": null,
   "metadata": {},
   "outputs": [],
   "source": []
  },
  {
   "cell_type": "markdown",
   "metadata": {},
   "source": [
    "## Evaluations and Testing"
   ]
  },
  {
   "cell_type": "code",
   "execution_count": 161,
   "metadata": {},
   "outputs": [],
   "source": [
    "# Recursive Selection sort\n",
    "arr = [3,6,1,68,9,13,45,12]\n",
    "selection_sort_recursive(arr,0,len(arr))"
   ]
  },
  {
   "cell_type": "code",
   "execution_count": 162,
   "metadata": {},
   "outputs": [
    {
     "data": {
      "text/plain": [
       "[1, 3, 6, 9, 12, 13, 45, 68]"
      ]
     },
     "execution_count": 162,
     "metadata": {},
     "output_type": "execute_result"
    }
   ],
   "source": [
    "arr"
   ]
  },
  {
   "cell_type": "code",
   "execution_count": 163,
   "metadata": {},
   "outputs": [],
   "source": [
    "# Iterative Selection sort\n",
    "arr = [3,6,1,68,9,13,45,12]\n",
    "selection_sort_iterative(arr,0,len(arr))"
   ]
  },
  {
   "cell_type": "code",
   "execution_count": 164,
   "metadata": {},
   "outputs": [
    {
     "data": {
      "text/plain": [
       "[1, 3, 6, 9, 12, 13, 45, 68]"
      ]
     },
     "execution_count": 164,
     "metadata": {},
     "output_type": "execute_result"
    }
   ],
   "source": [
    "arr"
   ]
  },
  {
   "cell_type": "code",
   "execution_count": null,
   "metadata": {},
   "outputs": [],
   "source": []
  },
  {
   "cell_type": "code",
   "execution_count": 165,
   "metadata": {},
   "outputs": [],
   "source": [
    "# Recursive Bubble sort\n",
    "arr = [3,6,1,68,9,13,45,12]\n",
    "bubble_sort_recursive(arr,0,len(arr))"
   ]
  },
  {
   "cell_type": "code",
   "execution_count": 166,
   "metadata": {},
   "outputs": [
    {
     "data": {
      "text/plain": [
       "[1, 3, 6, 9, 12, 13, 45, 68]"
      ]
     },
     "execution_count": 166,
     "metadata": {},
     "output_type": "execute_result"
    }
   ],
   "source": [
    "arr"
   ]
  },
  {
   "cell_type": "code",
   "execution_count": 139,
   "metadata": {},
   "outputs": [],
   "source": [
    "# Iterative Bubble sort\n",
    "arr = [3,6,1,68,9,13,45,12]\n",
    "bubble_sort_iterative(arr,0,len(arr))"
   ]
  },
  {
   "cell_type": "code",
   "execution_count": 140,
   "metadata": {},
   "outputs": [
    {
     "data": {
      "text/plain": [
       "[1, 3, 6, 9, 12, 13, 45, 68]"
      ]
     },
     "execution_count": 140,
     "metadata": {},
     "output_type": "execute_result"
    }
   ],
   "source": [
    "arr"
   ]
  },
  {
   "cell_type": "code",
   "execution_count": 141,
   "metadata": {},
   "outputs": [],
   "source": []
  },
  {
   "cell_type": "code",
   "execution_count": 154,
   "metadata": {},
   "outputs": [],
   "source": [
    "# Recursive Insertion sort \n",
    "arr = [3,6,1,68,9,13,45,12]\n",
    "insertion_sort_recursive(arr,0,len(arr))"
   ]
  },
  {
   "cell_type": "code",
   "execution_count": 155,
   "metadata": {},
   "outputs": [
    {
     "data": {
      "text/plain": [
       "[3, 1, 6, 9, 13, 45, 12, 68]"
      ]
     },
     "execution_count": 155,
     "metadata": {},
     "output_type": "execute_result"
    }
   ],
   "source": [
    "arr"
   ]
  },
  {
   "cell_type": "code",
   "execution_count": 150,
   "metadata": {},
   "outputs": [],
   "source": [
    "# Iterative Insertion sort\n",
    "arr = [3,6,1,68,9,13,45,12]\n",
    "insertion_sort_iterative(arr,0,len(arr))"
   ]
  },
  {
   "cell_type": "code",
   "execution_count": 151,
   "metadata": {},
   "outputs": [
    {
     "data": {
      "text/plain": [
       "[1, 3, 6, 9, 12, 13, 45, 68]"
      ]
     },
     "execution_count": 151,
     "metadata": {},
     "output_type": "execute_result"
    }
   ],
   "source": [
    "arr"
   ]
  },
  {
   "cell_type": "code",
   "execution_count": null,
   "metadata": {},
   "outputs": [],
   "source": []
  },
  {
   "cell_type": "code",
   "execution_count": 185,
   "metadata": {},
   "outputs": [],
   "source": [
    "# Merge sort\n",
    "arr = [3,6,1,68,9,13,45,12]\n",
    "mergeSort(arr)"
   ]
  },
  {
   "cell_type": "code",
   "execution_count": 186,
   "metadata": {},
   "outputs": [
    {
     "data": {
      "text/plain": [
       "[1, 3, 6, 9, 12, 13, 45, 68]"
      ]
     },
     "execution_count": 186,
     "metadata": {},
     "output_type": "execute_result"
    }
   ],
   "source": [
    "arr"
   ]
  },
  {
   "cell_type": "code",
   "execution_count": null,
   "metadata": {},
   "outputs": [],
   "source": []
  },
  {
   "cell_type": "code",
   "execution_count": 181,
   "metadata": {},
   "outputs": [],
   "source": [
    "# Quick sort\n",
    "arr = [3,6,1,68,9,13,45,12]\n",
    "quicksort(arr, 0, (len(arr) - 1))"
   ]
  },
  {
   "cell_type": "code",
   "execution_count": 182,
   "metadata": {},
   "outputs": [
    {
     "data": {
      "text/plain": [
       "[1, 3, 6, 9, 12, 13, 45, 68]"
      ]
     },
     "execution_count": 182,
     "metadata": {},
     "output_type": "execute_result"
    }
   ],
   "source": [
    "arr"
   ]
  },
  {
   "cell_type": "code",
   "execution_count": null,
   "metadata": {},
   "outputs": [],
   "source": []
  },
  {
   "cell_type": "code",
   "execution_count": 217,
   "metadata": {},
   "outputs": [],
   "source": [
    "# Randomized Quick sort\n",
    "arr = [3,6,1,68,9,13,45,12]\n",
    "randomized_quicksort(arr, 0, (len(arr) - 1))"
   ]
  },
  {
   "cell_type": "code",
   "execution_count": 218,
   "metadata": {},
   "outputs": [
    {
     "data": {
      "text/plain": [
       "[1, 3, 6, 9, 12, 13, 45, 68]"
      ]
     },
     "execution_count": 218,
     "metadata": {},
     "output_type": "execute_result"
    }
   ],
   "source": [
    "arr"
   ]
  },
  {
   "cell_type": "code",
   "execution_count": null,
   "metadata": {},
   "outputs": [],
   "source": []
  },
  {
   "cell_type": "code",
   "execution_count": null,
   "metadata": {},
   "outputs": [],
   "source": []
  }
 ],
 "metadata": {
  "kernelspec": {
   "display_name": "Python 3",
   "language": "python",
   "name": "python3"
  },
  "language_info": {
   "codemirror_mode": {
    "name": "ipython",
    "version": 3
   },
   "file_extension": ".py",
   "mimetype": "text/x-python",
   "name": "python",
   "nbconvert_exporter": "python",
   "pygments_lexer": "ipython3",
   "version": "3.6.5"
  }
 },
 "nbformat": 4,
 "nbformat_minor": 2
}
